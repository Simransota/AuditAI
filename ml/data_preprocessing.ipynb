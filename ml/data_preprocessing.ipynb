{
 "cells": [
  {
   "cell_type": "code",
   "execution_count": 2,
   "id": "7753f571",
   "metadata": {},
   "outputs": [
    {
     "ename": "ModuleNotFoundError",
     "evalue": "No module named 'seaborn'",
     "output_type": "error",
     "traceback": [
      "\u001b[1;31m---------------------------------------------------------------------------\u001b[0m",
      "\u001b[1;31mModuleNotFoundError\u001b[0m                       Traceback (most recent call last)",
      "Cell \u001b[1;32mIn[2], line 8\u001b[0m\n\u001b[0;32m      6\u001b[0m \u001b[38;5;28;01mfrom\u001b[39;00m \u001b[38;5;21;01msklearn\u001b[39;00m\u001b[38;5;21;01m.\u001b[39;00m\u001b[38;5;21;01mdecomposition\u001b[39;00m \u001b[38;5;28;01mimport\u001b[39;00m PCA\n\u001b[0;32m      7\u001b[0m \u001b[38;5;28;01mimport\u001b[39;00m \u001b[38;5;21;01mmatplotlib\u001b[39;00m\u001b[38;5;21;01m.\u001b[39;00m\u001b[38;5;21;01mpyplot\u001b[39;00m \u001b[38;5;28;01mas\u001b[39;00m \u001b[38;5;21;01mplt\u001b[39;00m\n\u001b[1;32m----> 8\u001b[0m \u001b[38;5;28;01mimport\u001b[39;00m \u001b[38;5;21;01mseaborn\u001b[39;00m \u001b[38;5;28;01mas\u001b[39;00m \u001b[38;5;21;01msns\u001b[39;00m\n",
      "\u001b[1;31mModuleNotFoundError\u001b[0m: No module named 'seaborn'"
     ]
    }
   ],
   "source": [
    "import pandas as pd\n",
    "import numpy as np\n",
    "from sklearn.preprocessing import StandardScaler, OneHotEncoder\n",
    "from sklearn.impute import SimpleImputer\n",
    "from sklearn.cluster import DBSCAN\n",
    "from sklearn.decomposition import PCA\n",
    "import matplotlib.pyplot as plt\n",
    "import seaborn as sns\n",
    "\n"
   ]
  },
  {
   "cell_type": "code",
   "execution_count": null,
   "id": "3c1adcd7",
   "metadata": {},
   "outputs": [
    {
     "ename": "",
     "evalue": "",
     "output_type": "error",
     "traceback": [
      "\u001b[1;31mRunning cells with '.venv (Python 3.13.1)' requires the ipykernel package.\n",
      "\u001b[1;31mInstall 'ipykernel' into the Python environment. \n",
      "\u001b[1;31mCommand: 'c:/Users/santj/OneDrive/Documents/GitHub/Codeshastra_XI_The_Horcruxes/.venv/Scripts/python.exe -m pip install ipykernel -U --force-reinstall'"
     ]
    }
   ],
   "source": [
    "df=pd.read_csv(\"datasets/Hackathon Dataset.csv\")"
   ]
  },
  {
   "cell_type": "code",
   "execution_count": null,
   "id": "f2229224",
   "metadata": {},
   "outputs": [],
   "source": [
    "import pandas as pd\n",
    "\n",
    "# Assume your original DataFrame is already loaded as df\n",
    "# Define the list of columns we want to keep:\n",
    "columns_to_keep = [\n",
    "    # --- Transaction / Pricing Details ---\n",
    "    \"Price\",            # Base price of the item\n",
    "    \"Qty_\",             # Quantity sold\n",
    "    \"Sub_Total\",        # Computed as Price x Qty_\n",
    "    \"Discount\",         # Discount applied to the item\n",
    "    \"Tax\",              # Total Tax applied (SGST + CGST + etc.)\n",
    "    \"Final_Total\",      # Net amount after discount and tax\n",
    "\n",
    "    # --- Tax & Service Breakdown ---\n",
    "    \"Non_Taxable\",      \n",
    "    \"CGST_Rate\", \"CGST_Amount\",\n",
    "    \"SGST_Rate\", \"SGST_Amount\",\n",
    "    \"VAT_Rate\", \"VAT_Amount\",\n",
    "    \"Service_Charge_Rate\", \"Service_Charge_Amount\",\n",
    "\n",
    "    # --- Modification / Pricing Change Details ---\n",
    "    \"amount_from\",      # Original invoice amount before modification\n",
    "    \"amount_to\",        # Modified invoice amount after changes\n",
    "    \"modified_by\",      # Who made the change\n",
    "    \"modify_comment\",   # Reason provided for the modification\n",
    "    \"electron_pos\",     # Timestamp when the modification was made\n",
    "\n",
    "    # --- Operational Context ---\n",
    "    \"Payment_Type\",     # Payment method (e.g., Cash, CARD, Online, etc.)\n",
    "    \"Order_Type\",       # e.g., Dine In, Delivery(Parcel), Pick Up\n",
    "    \"Area\",             # Sales area (on-premise, aggregator, etc.)\n",
    "    \"Status\",           # e.g., Success, Complimentary, Cancelled\n",
    "    \"Server_Name\",      # Staff member processing the order\n",
    "    \"Assign_To\",        # Responsible captain or manager\n",
    "\n",
    "    # --- Aggregator Discounts (when applicable) ---\n",
    "    \"Aggregator_Discount_z\", \"Outlet_Discount_z\",\n",
    "    \"Aggregator_Discount_s\", \"Outlet_Discount_s\",\n",
    "\n",
    "    # --- Customer / Group Size ---\n",
    "    \"Covers\"            # Number of guests (or PAX)\n",
    "]\n",
    "\n",
    "# Create a new DataFrame with only the selected columns\n",
    "df_og = df[columns_to_keep].copy()\n",
    "\n",
    "# Save the new DataFrame as a CSV file without the index\n"
   ]
  },
  {
   "cell_type": "code",
   "execution_count": null,
   "id": "3d3fefa0",
   "metadata": {},
   "outputs": [],
   "source": [
    "df=df_og.copy()"
   ]
  },
  {
   "cell_type": "code",
   "execution_count": null,
   "id": "d3fb5284",
   "metadata": {},
   "outputs": [
    {
     "data": {
      "text/plain": [
       "Index(['Price', 'Qty_', 'Sub_Total', 'Discount', 'Tax', 'Final_Total',\n",
       "       'Non_Taxable', 'CGST_Rate', 'CGST_Amount', 'SGST_Rate', 'SGST_Amount',\n",
       "       'VAT_Rate', 'VAT_Amount', 'Service_Charge_Rate',\n",
       "       'Service_Charge_Amount', 'amount_from', 'amount_to', 'modified_by',\n",
       "       'modify_comment', 'electron_pos', 'Payment_Type', 'Order_Type', 'Area',\n",
       "       'Status', 'Server_Name', 'Assign_To', 'Aggregator_Discount_z',\n",
       "       'Outlet_Discount_z', 'Aggregator_Discount_s', 'Outlet_Discount_s',\n",
       "       'Covers'],\n",
       "      dtype='object')"
      ]
     },
     "execution_count": 39,
     "metadata": {},
     "output_type": "execute_result"
    }
   ],
   "source": [
    "df.columns"
   ]
  },
  {
   "cell_type": "code",
   "execution_count": null,
   "id": "2b098afa",
   "metadata": {},
   "outputs": [
    {
     "data": {
      "text/plain": [
       "array([nan,  0.])"
      ]
     },
     "execution_count": 40,
     "metadata": {},
     "output_type": "execute_result"
    }
   ],
   "source": [
    "df['Aggregator_Discount_s'].unique()"
   ]
  },
  {
   "cell_type": "code",
   "execution_count": null,
   "id": "f27951d6",
   "metadata": {},
   "outputs": [
    {
     "name": "stdout",
     "output_type": "stream",
     "text": [
      "Remaining columns:\n"
     ]
    }
   ],
   "source": [
    "columns_to_drop = [\n",
    "    'Server_Name', 'Assign_To', \n",
    "    'Aggregator_Discount_z', 'Outlet_Discount_z', \n",
    "    'Aggregator_Discount_s', 'Outlet_Discount_s', \n",
    "    'modified_by', 'modify_comment', 'electron_pos','Area'\n",
    "]\n",
    "\n",
    "df = df.drop(columns=columns_to_drop)\n",
    "\n",
    "# Optionally, verify the remaining columns\n",
    "print(\"Remaining columns:\")"
   ]
  },
  {
   "cell_type": "code",
   "execution_count": null,
   "id": "05b05437",
   "metadata": {},
   "outputs": [
    {
     "name": "stdout",
     "output_type": "stream",
     "text": [
      "['Price', 'Qty_', 'Sub_Total', 'Discount', 'Tax', 'Final_Total', 'Non_Taxable', 'CGST_Rate', 'CGST_Amount', 'SGST_Rate', 'SGST_Amount', 'VAT_Rate', 'VAT_Amount', 'Service_Charge_Rate', 'Service_Charge_Amount', 'amount_from', 'amount_to', 'Payment_Type', 'Order_Type', 'Status', 'Covers']\n"
     ]
    }
   ],
   "source": [
    "print(df.columns.tolist())"
   ]
  },
  {
   "cell_type": "code",
   "execution_count": null,
   "id": "c3771e1e",
   "metadata": {},
   "outputs": [],
   "source": [
    "df['modification_delta'] = np.where(\n",
    "    df['amount_from'].notna() & df['amount_to'].notna(),\n",
    "    df['amount_to'] - df['amount_from'],\n",
    "    0\n",
    ")\n",
    "\n",
    "\n",
    "# If you decide you no longer need the original columns, you could drop them:\n",
    "columns_to_drop = ['amount_from', 'amount_to']\n",
    "df = df.drop(columns=columns_to_drop)"
   ]
  },
  {
   "cell_type": "code",
   "execution_count": null,
   "id": "e8b96598",
   "metadata": {},
   "outputs": [
    {
     "data": {
      "text/plain": [
       "Price                    0\n",
       "Qty_                     0\n",
       "Sub_Total                0\n",
       "Discount                 0\n",
       "Tax                      0\n",
       "Final_Total              0\n",
       "Non_Taxable              0\n",
       "CGST_Rate                0\n",
       "CGST_Amount              0\n",
       "SGST_Rate                0\n",
       "SGST_Amount              0\n",
       "VAT_Rate                 0\n",
       "VAT_Amount               0\n",
       "Service_Charge_Rate      0\n",
       "Service_Charge_Amount    0\n",
       "Payment_Type             0\n",
       "Order_Type               0\n",
       "Status                   0\n",
       "Covers                   0\n",
       "modification_delta       0\n",
       "dtype: int64"
      ]
     },
     "execution_count": 44,
     "metadata": {},
     "output_type": "execute_result"
    }
   ],
   "source": [
    "df.isnull().sum()"
   ]
  },
  {
   "cell_type": "code",
   "execution_count": null,
   "id": "33648060",
   "metadata": {},
   "outputs": [],
   "source": [
    "df.info()"
   ]
  },
  {
   "cell_type": "code",
   "execution_count": 45,
   "id": "26683c7b",
   "metadata": {},
   "outputs": [],
   "source": [
    "df.to_csv(\"df_final.csv\", index=False)"
   ]
  },
  {
   "cell_type": "code",
   "execution_count": null,
   "id": "15ddd6fd",
   "metadata": {},
   "outputs": [],
   "source": []
  }
 ],
 "metadata": {
  "kernelspec": {
   "display_name": "Python 3",
   "language": "python",
   "name": "python3"
  },
  "language_info": {
   "codemirror_mode": {
    "name": "ipython",
    "version": 3
   },
   "file_extension": ".py",
   "mimetype": "text/x-python",
   "name": "python",
   "nbconvert_exporter": "python",
   "pygments_lexer": "ipython3",
   "version": "3.10.6"
  }
 },
 "nbformat": 4,
 "nbformat_minor": 5
}
